{
 "cells": [
  {
   "cell_type": "code",
   "execution_count": 1,
   "metadata": {},
   "outputs": [],
   "source": [
    "import win32com.client\n",
    "import pandas as pd\n",
    "import time\n",
    "import csv\n",
    "import os\n",
    "\n",
    "from datetime import datetime,date\n",
    "from apscheduler.schedulers.blocking import BlockingScheduler"
   ]
  },
  {
   "cell_type": "code",
   "execution_count": 2,
   "metadata": {},
   "outputs": [
    {
     "name": "stdout",
     "output_type": "stream",
     "text": [
      "239\n"
     ]
    }
   ],
   "source": [
    "code=[]\n",
    "\n",
    "f=open('C:\\Cybos\\data\\kospi_info.csv')\n",
    "csvReader=csv.reader(f)\n",
    "\n",
    "for info in csvReader:\n",
    "    code.append(info[0])\n",
    "f.close()\n",
    "\n",
    "l=len(code)\n",
    "print(l)"
   ]
  },
  {
   "cell_type": "markdown",
   "metadata": {},
   "source": [
    "# day 변수값, 시작-종료일자 변경"
   ]
  },
  {
   "cell_type": "code",
   "execution_count": 3,
   "metadata": {},
   "outputs": [],
   "source": [
    "instStockChart = win32com.client.Dispatch(\"CpSysDib.StockChart\")\n",
    "\n",
    "day=\"2017-11\"\n",
    "cols=['itemCode','date','maxp','minp','price']\n",
    "\n",
    "for c in range(len(code)):\n",
    "    data_set=[]\n",
    "    \n",
    "    # SetInputValue\n",
    "    instStockChart.SetInputValue(0, code[c])\n",
    "    instStockChart.SetInputValue(1, ord('1'))\n",
    "    instStockChart.SetInputValue(2, 20171107)\n",
    "    instStockChart.SetInputValue(3, 20171101)\n",
    "    instStockChart.SetInputValue(5, (0, 3, 4, 5))\n",
    "    #날짜, 고가, 저가, 종가, 전일대비\n",
    "    instStockChart.SetInputValue(6, ord('D'))\n",
    "    instStockChart.SetInputValue(9, ord('1'))\n",
    "\n",
    "    # BlockRequest\n",
    "    instStockChart.BlockRequest()\n",
    "\n",
    "    # GetHeaderValue\n",
    "    numData = instStockChart.GetHeaderValue(3)\n",
    "    numField = instStockChart.GetHeaderValue(1)\n",
    "    \n",
    "    for date in range(numData):\n",
    "        row_data= []\n",
    "    \n",
    "        row_data.append(code[c])\n",
    "        row_data.append(instStockChart.GetDataValue(0, date))\n",
    "        row_data.append(instStockChart.GetDataValue(1, date))\n",
    "        row_data.append(instStockChart.GetDataValue(2, date))\n",
    "        row_data.append(instStockChart.GetDataValue(3, date))\n",
    "        \n",
    "        data_set.append(row_data)\n",
    "        \n",
    "    df= pd.DataFrame(data= data_set,columns= cols)\n",
    "    with open(\"C:\\Cybos\\data\\perDay\\{0}.csv\".format(day), \"a\") as f:\n",
    "        df.to_csv(f,index=False,header=False)"
   ]
  }
 ],
 "metadata": {
  "kernelspec": {
   "display_name": "Python 3",
   "language": "python",
   "name": "python3"
  },
  "language_info": {
   "codemirror_mode": {
    "name": "ipython",
    "version": 3
   },
   "file_extension": ".py",
   "mimetype": "text/x-python",
   "name": "python",
   "nbconvert_exporter": "python",
   "pygments_lexer": "ipython3",
   "version": "3.6.3"
  }
 },
 "nbformat": 4,
 "nbformat_minor": 2
}
