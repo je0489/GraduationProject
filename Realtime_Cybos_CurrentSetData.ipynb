{
 "cells": [
  {
   "cell_type": "code",
   "execution_count": 1,
   "metadata": {},
   "outputs": [],
   "source": [
    "import win32com.client\n",
    "import pandas as pd\n",
    "import time\n",
    "import csv\n",
    "import os\n",
    "\n",
    "from datetime import datetime,date\n",
    "from apscheduler.schedulers.blocking import BlockingScheduler"
   ]
  },
  {
   "cell_type": "code",
   "execution_count": 2,
   "metadata": {},
   "outputs": [
    {
     "name": "stdout",
     "output_type": "stream",
     "text": [
      "239\n"
     ]
    }
   ],
   "source": [
    "inStockMst = win32com.client.Dispatch(\"dscbo1.StockMst\")\n",
    "\n",
    "code=[]\n",
    "name=[]\n",
    "price=[]\n",
    "\n",
    "f=open('C:\\Cybos\\data\\kospi_info.csv')\n",
    "csvReader=csv.reader(f)\n",
    "\n",
    "for info in csvReader:\n",
    "    code.append(info[0])\n",
    "    name.append(info[1])\n",
    "f.close()\n",
    "\n",
    "l=len(code)\n",
    "print(l)"
   ]
  },
  {
   "cell_type": "code",
   "execution_count": 3,
   "metadata": {},
   "outputs": [],
   "source": [
    "def crawling_job():\n",
    "    print(1234)\n",
    "    date= datetime.now().strftime(\"%Y%m%d\")\n",
    "    time= datetime.now().strftime(\"%H%M\")\n",
    "\n",
    "    data_set=[]\n",
    "\n",
    "    for c in code:\n",
    "        inStockMst.SetInputValue(0, c)\n",
    "        inStockMst.BlockRequest()\n",
    "        current = inStockMst.GetHeaderValue(11)\n",
    "        row_data=[]\n",
    "\n",
    "        row_data.append(c)\n",
    "        row_data.append(date)\n",
    "        row_data.append(time)\n",
    "        row_data.append(current)\n",
    "        # 종목코드, 날짜 ,시간, 시가\n",
    "\n",
    "        data_set.append(row_data)\n",
    "\n",
    "    df= pd.DataFrame(data= data_set)\n",
    "    df.to_csv(\"C:\\Cybos\\data\\log\\{0}.csv\".format(date+time),index=False)\n",
    "    with open(\"C:\\Cybos\\data\\dataset\\{0}.csv\".format(date), \"a\") as f:\n",
    "        df.to_csv(f,index=False,header=False)"
   ]
  },
  {
   "cell_type": "code",
   "execution_count": 4,
   "metadata": {},
   "outputs": [
    {
     "data": {
      "text/plain": [
       "<Job (id=1b437a54fe9a4c70890a74a884991da7 name=crawling_job)>"
      ]
     },
     "execution_count": 4,
     "metadata": {},
     "output_type": "execute_result"
    }
   ],
   "source": [
    "sched = BlockingScheduler()\n",
    "sched.add_job(crawling_job,'interval',minutes=20,\n",
    "              start_date=datetime.now().strftime(\"%Y-%m-%d\")+' 09:00:00',\n",
    "              end_date=datetime.now().strftime(\"%Y-%m-%d\")+' 15:30:00')"
   ]
  },
  {
   "cell_type": "code",
   "execution_count": null,
   "metadata": {},
   "outputs": [
    {
     "name": "stdout",
     "output_type": "stream",
     "text": [
      "1234\n"
     ]
    }
   ],
   "source": [
    "sched.start()"
   ]
  }
 ],
 "metadata": {
  "kernelspec": {
   "display_name": "Python 3",
   "language": "python",
   "name": "python3"
  },
  "language_info": {
   "codemirror_mode": {
    "name": "ipython",
    "version": 3
   },
   "file_extension": ".py",
   "mimetype": "text/x-python",
   "name": "python",
   "nbconvert_exporter": "python",
   "pygments_lexer": "ipython3",
   "version": "3.6.3"
  }
 },
 "nbformat": 4,
 "nbformat_minor": 2
}
